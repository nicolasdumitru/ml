{
 "cells": [
  {
   "cell_type": "code",
   "execution_count": null,
   "id": "8db57237",
   "metadata": {},
   "outputs": [],
   "source": [
    "%load_ext autoreload\n",
    "%autoreload 2\n",
    "\n",
    "import torch\n",
    "from torch import nn\n",
    "from torch.utils.data import Dataset, DataLoader\n",
    "from torchvision import datasets\n",
    "import torchvision.transforms.v2.functional as TF\n",
    "\n",
    "from PIL import Image\n",
    "\n",
    "from models.yolo import YOLOv1"
   ]
  },
  {
   "cell_type": "code",
   "execution_count": null,
   "id": "b5ed1269",
   "metadata": {},
   "outputs": [],
   "source": [
    "def letterbox(image: Image, size=448) -> torch.Tensor:\n",
    "    x = TF.pil_to_tensor(image)\n",
    "    print(x.shape)\n",
    "    x = TF.resize(x, size=None, max_size=size)\n",
    "    print(x.shape)\n",
    "    \n",
    "    _, h, w = x.shape\n",
    "    pad_size = int((size - min(w, h)) / 2)\n",
    "    print(pad_size)\n",
    "\n",
    "    x = TF.pad(x, [pad_size, 0] if w < h else [0, pad_size])\n",
    "    return x"
   ]
  },
  {
   "cell_type": "code",
   "execution_count": null,
   "id": "23171932",
   "metadata": {},
   "outputs": [],
   "source": [
    "dataset_path = \"data/cocodetection\"\n",
    "train_path = f\"{dataset_path}/train2017\"\n",
    "train_annotations = f\"{dataset_path}/annotations/instances_train2017.json\"\n",
    "\n",
    "# TODO: Add transforms\n",
    "coco_train = datasets.CocoDetection(root=train_path, \n",
    "                                    annFile=train_annotations)"
   ]
  }
 ],
 "metadata": {
  "kernelspec": {
   "display_name": "pytorch_env",
   "language": "python",
   "name": "python3"
  },
  "language_info": {
   "codemirror_mode": {
    "name": "ipython",
    "version": 3
   },
   "file_extension": ".py",
   "mimetype": "text/x-python",
   "name": "python",
   "nbconvert_exporter": "python",
   "pygments_lexer": "ipython3",
   "version": "3.13.5"
  }
 },
 "nbformat": 4,
 "nbformat_minor": 5
}
