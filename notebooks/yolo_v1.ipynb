{
 "cells": [
  {
   "cell_type": "code",
   "execution_count": null,
   "id": "8db57237",
   "metadata": {},
   "outputs": [],
   "source": [
    "%load_ext autoreload\n",
    "%autoreload 2\n",
    "\n",
    "import sys\n",
    "project_root = \"..\"\n",
    "sys.path.append(project_root)\n",
    "\n",
    "import torch\n",
    "from torch import nn\n",
    "from torch.utils.data import Dataset, DataLoader\n",
    "from torchvision import datasets\n",
    "import torchvision.transforms.v2.functional as TF\n",
    "\n",
    "import numpy as np\n",
    "\n",
    "from PIL import Image\n",
    "\n",
    "from models.yolo import YOLOv1\n",
    "from pipelines.yolo_v1_coco import YOLOv1CocoTransform"
   ]
  },
  {
   "cell_type": "code",
   "execution_count": null,
   "id": "23171932",
   "metadata": {},
   "outputs": [],
   "source": [
    "dataset_path = f\"{project_root}/data/cocodetection\"\n",
    "train_path = f\"{dataset_path}/train2017\"\n",
    "train_annotations = f\"{dataset_path}/annotations/instances_train2017.json\"\n",
    "\n",
    "coco_train = datasets.CocoDetection(root=train_path, annFile=train_annotations, transforms=YOLOv1CocoTransform(image_size=448, grid_size=7))"
   ]
  },
  {
   "cell_type": "code",
   "execution_count": null,
   "id": "0c2f1a29",
   "metadata": {},
   "outputs": [],
   "source": [
    "t = YOLOv1CocoTransform()\n",
    "result = t(coco_train[0][0], coco_train[0][1])\n",
    "print(result[0].shape, result[1].shape)"
   ]
  }
 ],
 "metadata": {
  "kernelspec": {
   "display_name": "pytorch_env",
   "language": "python",
   "name": "python3"
  },
  "language_info": {
   "codemirror_mode": {
    "name": "ipython",
    "version": 3
   },
   "file_extension": ".py",
   "mimetype": "text/x-python",
   "name": "python",
   "nbconvert_exporter": "python",
   "pygments_lexer": "ipython3",
   "version": "3.13.5"
  }
 },
 "nbformat": 4,
 "nbformat_minor": 5
}
